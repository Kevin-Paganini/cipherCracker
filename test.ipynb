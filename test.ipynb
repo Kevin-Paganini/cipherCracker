{
 "cells": [
  {
   "cell_type": "code",
   "execution_count": null,
   "metadata": {},
   "outputs": [],
   "source": []
  },
  {
   "cell_type": "code",
   "execution_count": null,
   "metadata": {},
   "outputs": [],
   "source": []
  },
  {
   "cell_type": "code",
   "execution_count": null,
   "metadata": {},
   "outputs": [],
   "source": []
  },
  {
   "cell_type": "code",
   "execution_count": null,
   "metadata": {},
   "outputs": [],
   "source": []
  },
  {
   "cell_type": "code",
   "execution_count": null,
   "metadata": {},
   "outputs": [],
   "source": []
  },
  {
   "cell_type": "code",
   "execution_count": null,
   "metadata": {},
   "outputs": [],
   "source": []
  },
  {
   "cell_type": "code",
   "execution_count": null,
   "metadata": {},
   "outputs": [],
   "source": []
  },
  {
   "cell_type": "code",
   "execution_count": null,
   "metadata": {},
   "outputs": [],
   "source": []
  },
  {
   "cell_type": "code",
   "execution_count": null,
   "metadata": {},
   "outputs": [],
   "source": []
  },
  {
   "cell_type": "code",
   "execution_count": null,
   "metadata": {},
   "outputs": [],
   "source": []
  },
  {
   "cell_type": "code",
   "execution_count": 1,
   "metadata": {},
   "outputs": [],
   "source": [
    "vocab_char_to_num = {\n",
    "    'A': 0, 'B': 1, 'C': 2, 'D': 3,\n",
    "    'E': 4, 'F': 5, 'G': 6, 'H': 7,\n",
    "    'I': 8, 'J': 9, 'K': 10, 'L': 11,\n",
    "    'M': 12, 'N': 13, 'O': 14, 'P': 15,\n",
    "    'Q': 16, 'R': 17, 'S': 18, 'T': 19,\n",
    "    'U': 20, 'V': 21, 'W': 22, 'X': 23,\n",
    "    'Y': 24, 'Z': 25, ' ': 26,   '.': 27,  \n",
    "    ',': 28, '?': 29, '!': 30\n",
    "}\n",
    "\n",
    "vocab_num_to_char = {}\n",
    "\n",
    "for key in vocab_char_to_num:\n",
    "    vocab_num_to_char[vocab_char_to_num[key]] = key\n",
    "\n",
    "def string_to_numerical(s):\n",
    "    return [vocab_char_to_num[c] for c in s]\n",
    "\n",
    "def numerical_to_string(s):\n",
    "    return [vocab_num_to_char[c] for c in s]\n"
   ]
  },
  {
   "cell_type": "code",
   "execution_count": 2,
   "metadata": {},
   "outputs": [],
   "source": [
    "from models import EncoderRNN, DecoderRNN\n",
    "import torch\n",
    "\n",
    "\n",
    "# Ceaser - Same Shift Training\n",
    "encoder_state_dict_c = torch.load('encoder_ceaser_cipher_1024.pth')\n",
    "decoder_state_dict_c = torch.load('decoder_ceaser_cipher_1024.pth')\n",
    "\n",
    "encoder_c = EncoderRNN(31, 1024)\n",
    "decoder_c = DecoderRNN(1024, 31)\n",
    "\n",
    "encoder_c.load_state_dict(encoder_state_dict_c)\n",
    "decoder_c.load_state_dict(decoder_state_dict_c)\n",
    "\n",
    "\n",
    "# Autokey - Same Key Training\n",
    "encoder_state_dict_a = torch.load('encoder_autokey_cipher_1024.pth')\n",
    "decoder_state_dict_a = torch.load('decoder_autokey_cipher_1024.pth')\n",
    "\n",
    "encoder_a = EncoderRNN(31, 1024)\n",
    "decoder_a = DecoderRNN(1024, 31)\n",
    "\n",
    "encoder_a.load_state_dict(encoder_state_dict_a)\n",
    "decoder_a.load_state_dict(decoder_state_dict_a)\n",
    "\n",
    "\n",
    "# Vigenere - Same Key training\n",
    "encoder_state_dict_v = torch.load('encoder_vigenere_hard_cipher_1024.pth')\n",
    "decoder_state_dict_v = torch.load('decoder_vigenere_hard_cipher_1024.pth')\n",
    "\n",
    "encoder_v = EncoderRNN(31, 1024)\n",
    "decoder_v = DecoderRNN(1024, 31)\n",
    "\n",
    "encoder_v.load_state_dict(encoder_state_dict_v)\n",
    "decoder_v.load_state_dict(decoder_state_dict_v)\n",
    "\n",
    "device = 'cuda:0'\n",
    "\n",
    "models = [encoder_v, encoder_c, encoder_a, decoder_v, decoder_c, decoder_a]\n",
    "\n",
    "for m in models:\n",
    "    m.to(device)\n",
    "    m.eval()"
   ]
  },
  {
   "cell_type": "code",
   "execution_count": 3,
   "metadata": {},
   "outputs": [
    {
     "name": "stdout",
     "output_type": "stream",
     "text": [
      "NJZPVVDD!JISVUI,ZJOT,UCDGC.Z!DT!G !OP,NXQXATBVZEF I LOVE IT SO MUCH THIS IS THE BEST TOY EVER GREAT\n",
      "ZR TKU.C.MSB?X?H.OUZUGMBFAMYQRQGI,? U?EWYQWETVHFZ I LOVE IT SO MUCH THIS IS THE BEST TOY EVER GREAT\n",
      "M!PSZI!MX!WS!QYGL!XLMW!MW!XLI!FIWX!XS,!IZIV!KVIEX I LOVE IT SO MUCH THIS IS THE BEST TOY EVER GREAT\n"
     ]
    }
   ],
   "source": [
    "from ciphers import VigenereCipher \n",
    "from ciphers import CaesarCipher\n",
    "from ciphers import AutokeyCipher\n",
    "\n",
    "\n",
    "v = VigenereCipher('RWPFUQBZIRASDLJFUTBSMTRYSFYRMWPCVJDHGFJSDMFJNEDFGV')\n",
    "a = AutokeyCipher('FOOBAR')\n",
    "c = CaesarCipher(4)\n",
    "\n",
    "\n",
    "clear_text = \"I LOVE IT SO MUCH THIS IS THE BEST TOY EVER GREAT\"\n",
    "\n",
    "cipher_a = a.cipher_text(clear_text)\n",
    "clear_a = a.original_text(cipher_a)\n",
    "\n",
    "cipher_v = v.cipher_text(clear_text)\n",
    "clear_v = v.original_text(cipher_v)\n",
    "\n",
    "cipher_c = c.cipher_text(clear_text)\n",
    "clear_c = c.original_text(cipher_c)\n",
    "\n",
    "\n",
    "print(cipher_a, clear_a)\n",
    "print(cipher_v, clear_v)\n",
    "print(cipher_c, clear_c)"
   ]
  },
  {
   "cell_type": "code",
   "execution_count": 4,
   "metadata": {},
   "outputs": [
    {
     "name": "stdout",
     "output_type": "stream",
     "text": [
      "I LOVE IT SO MUCH THIS IS THE BEST TOY EVER GREAT\n",
      "M!PSZI!MX!WS!QYGL!XLMW!MW!XLI!FIWX!XS,!IZIV!KVIEX\n",
      "I LOVE IT SO MUCH THIS IS THE BEST TO EVERY GET TR\n"
     ]
    }
   ],
   "source": [
    "\n",
    "# It was trained at a shift of 4\n",
    "cipher = c.cipher_text(clear_text)\n",
    "print(clear_text)\n",
    "print(cipher)\n",
    "cipher = torch.tensor(string_to_numerical(cipher)).view(1, -1).to(device)\n",
    "\n",
    "\n",
    "encoder_outputs, encoder_hidden = encoder_c(cipher)\n",
    "decoder_outputs, decoder_hidden, decoder_attn = decoder_c(encoder_outputs, encoder_hidden)\n",
    "\n",
    "_, topi = decoder_outputs.topk(1)\n",
    "decoded_ids = topi.squeeze()\n",
    "\n",
    "print(\"\".join(numerical_to_string(decoded_ids.tolist())))\n"
   ]
  },
  {
   "cell_type": "code",
   "execution_count": 5,
   "metadata": {},
   "outputs": [
    {
     "name": "stdout",
     "output_type": "stream",
     "text": [
      "I LOVE IT SO MUCH THIS IS THE BEST TOY EVER GREAT\n",
      "NJZPVVDD!JISVUI,ZJOT,UCDGC.Z!DT!G !OP,NXQXATBVZEF\n",
      " THE APP IS A GREAT AND IT WAS A GREAT AND IT WAS \n"
     ]
    }
   ],
   "source": [
    "cipher = a.cipher_text(clear_text)\n",
    "print(clear_text)\n",
    "print(cipher)\n",
    "cipher = torch.tensor(string_to_numerical(cipher)).view(1, -1).to(device)\n",
    "\n",
    "\n",
    "encoder_outputs, encoder_hidden = encoder_a(cipher)\n",
    "decoder_outputs, decoder_hidden, decoder_attn = decoder_a(encoder_outputs, encoder_hidden)\n",
    "\n",
    "_, topi = decoder_outputs.topk(1)\n",
    "decoded_ids = topi.squeeze()\n",
    "\n",
    "print(\"\".join(numerical_to_string(decoded_ids.tolist())))"
   ]
  },
  {
   "cell_type": "code",
   "execution_count": 6,
   "metadata": {},
   "outputs": [
    {
     "name": "stdout",
     "output_type": "stream",
     "text": [
      "I LOVE IT SO MUCH THIS IS THE BEST TOY EVER GREAT\n",
      "ZR TKU.C.MSB?X?H.OUZUGMBFAMYQRQGI,? U?EWYQWETVHFZ\n",
      "I LOVE IT SO EASY TO USE THAT I ENDED UP UP SO MUC\n"
     ]
    }
   ],
   "source": [
    "cipher = v.cipher_text(clear_text)\n",
    "print(clear_text)\n",
    "print(cipher)\n",
    "cipher = torch.tensor(string_to_numerical(cipher)).view(1, -1).to(device)\n",
    "\n",
    "\n",
    "encoder_outputs, encoder_hidden = encoder_v(cipher)\n",
    "decoder_outputs, decoder_hidden, decoder_attn = decoder_v(encoder_outputs, encoder_hidden)\n",
    "\n",
    "_, topi = decoder_outputs.topk(1)\n",
    "decoded_ids = topi.squeeze()\n",
    "\n",
    "print(\"\".join(numerical_to_string(decoded_ids.tolist())))"
   ]
  }
 ],
 "metadata": {
  "kernelspec": {
   "display_name": "Python 3 (ipykernel)",
   "language": "python",
   "name": "python3"
  },
  "language_info": {
   "codemirror_mode": {
    "name": "ipython",
    "version": 3
   },
   "file_extension": ".py",
   "mimetype": "text/x-python",
   "name": "python",
   "nbconvert_exporter": "python",
   "pygments_lexer": "ipython3",
   "version": "3.10.6"
  }
 },
 "nbformat": 4,
 "nbformat_minor": 2
}
